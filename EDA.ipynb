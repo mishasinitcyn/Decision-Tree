{
 "cells": [
  {
   "cell_type": "markdown",
   "metadata": {},
   "source": [
    "# EDA\n",
    "The objective of this notebook is to briefly visualize the distribution of the data"
   ]
  },
  {
   "cell_type": "code",
   "execution_count": null,
   "metadata": {},
   "outputs": [],
   "source": [
    "import pandas as pd\n",
    "import os\n",
    "import matplotlib.pyplot as plt\n",
    "import seaborn as sns"
   ]
  },
  {
   "cell_type": "code",
   "execution_count": null,
   "metadata": {},
   "outputs": [],
   "source": [
    "DATA_PATH = os.path.join(\"data\", \"train.csv\")\n",
    "df = pd.read_csv(DATA_PATH)"
   ]
  },
  {
   "cell_type": "code",
   "execution_count": null,
   "metadata": {},
   "outputs": [],
   "source": [
    "df.head()"
   ]
  },
  {
   "cell_type": "markdown",
   "metadata": {},
   "source": [
    "## Categorical Data"
   ]
  },
  {
   "cell_type": "code",
   "execution_count": null,
   "metadata": {},
   "outputs": [],
   "source": [
    "for column in df.select_dtypes(include=['object', 'category']).columns:\n",
    "    if len(df[column].unique()) <= 42:\n",
    "        plt.figure(figsize=(10, 6))\n",
    "        df[column].value_counts().plot(kind='bar')\n",
    "        plt.title(f'Distribution of {column}')\n",
    "        plt.xlabel(column)\n",
    "        plt.ylabel('Count')\n",
    "        plt.xticks(rotation=45, ha='right')\n",
    "        plt.tight_layout()\n",
    "        plt.show()"
   ]
  },
  {
   "cell_type": "markdown",
   "metadata": {},
   "source": [
    "## Categorical Income Distribution"
   ]
  },
  {
   "cell_type": "code",
   "execution_count": null,
   "metadata": {},
   "outputs": [],
   "source": [
    "for column in df.select_dtypes(include=['object', 'category']).columns:\n",
    "    if column == 'income': continue\n",
    "\n",
    "    if len(df[column].unique()) <= 42:\n",
    "        ct = pd.crosstab(df[column], df['income'], normalize='index')\n",
    "        ct_sorted = ct.sort_values(by='>50K', ascending=True)\n",
    "        \n",
    "        ax = ct_sorted.plot(kind='barh', stacked=True, figsize=(12, max(6, len(ct_sorted) * 0.4)))\n",
    "        \n",
    "        plt.title(f'Distribution of {column} by Income')\n",
    "        plt.xlabel('Proportion')\n",
    "        plt.ylabel(column)\n",
    "        plt.legend(title='Income', bbox_to_anchor=(1.05, 1), loc='upper left')\n",
    "        \n",
    "        for c in ax.containers:\n",
    "            ax.bar_label(c, fmt='%.1f%%', label_type='center')\n",
    "        \n",
    "        plt.tight_layout()\n",
    "        plt.show()"
   ]
  },
  {
   "cell_type": "markdown",
   "metadata": {},
   "source": [
    "# Continuous"
   ]
  },
  {
   "cell_type": "code",
   "execution_count": null,
   "metadata": {},
   "outputs": [],
   "source": [
    "for column in df.columns:\n",
    "    if len(df[column].unique()) > 42:\n",
    "        # Distribution\n",
    "        plt.figure(figsize=(10, 6))\n",
    "        sns.histplot(df[column], kde=True)\n",
    "        plt.title(f'Distribution of {column}')\n",
    "        plt.xlabel(column)\n",
    "        plt.ylabel('Count')\n",
    "\n",
    "        # Vertical lines for mean and median\n",
    "        plt.axvline(df[column].mean(), color='r', linestyle='--', label='Mean')\n",
    "        plt.axvline(df[column].median(), color='g', linestyle='-.', label='Median')\n",
    "\n",
    "        plt.legend()\n",
    "        plt.tight_layout()\n",
    "        plt.show()\n",
    "\n",
    "        # # Summary statistics\n",
    "        # stats = df[column].describe()\n",
    "        # print(stats)\n",
    "        # print(f\"Median: {df[column].median()}\")\n",
    "        # print('\\n')"
   ]
  },
  {
   "cell_type": "code",
   "execution_count": null,
   "metadata": {},
   "outputs": [],
   "source": [
    "for column in df.columns:\n",
    "    if len(df[column].unique()) > 42:\n",
    "        # Distribution\n",
    "        plt.figure(figsize=(12, 6))\n",
    "        sns.histplot(data=df[df['income'] == '<=50K'], x=column, kde=True, color='blue', alpha=0.5, label='<=50K')\n",
    "        sns.histplot(data=df[df['income'] == '>50K'], x=column, kde=True, color='red', alpha=0.5, label='>50K')\n",
    "\n",
    "        plt.title(f'Distribution of {column} by Income')\n",
    "        plt.xlabel(column)\n",
    "        plt.ylabel('Count')\n",
    "        plt.legend()\n",
    "        plt.tight_layout()\n",
    "        plt.show()\n",
    "\n",
    "        # # Summary statistics\n",
    "        # stats = df[column].describe()\n",
    "        # print(f\"\\nSummary statistics for {column}:\")\n",
    "        # print(stats)\n",
    "        # print(f\"Median: {df[column].median()}\")\n",
    "        # print('\\n')\n",
    "\n",
    "        # median_low = df[df['income'] == '<=50K'][column].median()\n",
    "        # median_high = df[df['income'] == '>50K'][column].median()\n",
    "        # print(f\"Median for <=50K: {median_low}\")\n",
    "        # print(f\"Median for >50K: {median_high}\")\n",
    "        # print(\"\\n\" + \"=\"*50 + \"\\n\")"
   ]
  },
  {
   "cell_type": "code",
   "execution_count": null,
   "metadata": {},
   "outputs": [],
   "source": []
  }
 ],
 "metadata": {
  "kernelspec": {
   "display_name": "Python 3",
   "language": "python",
   "name": "python3"
  },
  "language_info": {
   "codemirror_mode": {
    "name": "ipython",
    "version": 3
   },
   "file_extension": ".py",
   "mimetype": "text/x-python",
   "name": "python",
   "nbconvert_exporter": "python",
   "pygments_lexer": "ipython3",
   "version": "3.9.6"
  }
 },
 "nbformat": 4,
 "nbformat_minor": 2
}
